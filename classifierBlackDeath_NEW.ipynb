{
 "cells": [
  {
   "cell_type": "code",
   "execution_count": 1,
   "metadata": {},
   "outputs": [
    {
     "name": "stderr",
     "output_type": "stream",
     "text": [
      "Using TensorFlow backend.\n"
     ]
    }
   ],
   "source": [
    "from keras.preprocessing.image import ImageDataGenerator\n",
    "from keras.models import Sequential\n",
    "from keras.layers import Conv2D, MaxPooling2D\n",
    "from keras.layers import Activation, Dropout, Flatten, Dense\n",
    "from keras import backend as K"
   ]
  },
  {
   "cell_type": "code",
   "execution_count": 2,
   "metadata": {},
   "outputs": [],
   "source": [
    "#image dimensions\n",
    "img_width, img_height = 150, 250"
   ]
  },
  {
   "cell_type": "code",
   "execution_count": 3,
   "metadata": {},
   "outputs": [],
   "source": [
    "train_data_dir = './data/train'\n",
    "test_data_dir  = './data/test'\n",
    "num_train_samples = 1764\n",
    "num_test_samples  = 35\n",
    "epochs = 50                   #maybe too big\n",
    "batch_size = 16"
   ]
  },
  {
   "cell_type": "code",
   "execution_count": 9,
   "metadata": {},
   "outputs": [],
   "source": [
    "if K.image_data_format() == 'channel_first':\n",
    "    input_shape = (1, img_width, img_height)   #change 3 to 1 for grayscale\n",
    "else:\n",
    "    input_shape = (img_width, img_height, 1)"
   ]
  },
  {
   "cell_type": "code",
   "execution_count": 10,
   "metadata": {},
   "outputs": [],
   "source": [
    "\n",
    "model = Sequential()\n",
    "model.add(Conv2D(32, (3,3), input_shape=input_shape))\n",
    "model.add(Activation('relu'))\n",
    "model.add(MaxPooling2D(pool_size=(2,2)))\n",
    "\n",
    "model.add(Conv2D(32, (3,3)))\n",
    "model.add(Activation('relu'))\n",
    "model.add(MaxPooling2D(pool_size=(2,2)))\n",
    "\n",
    "model.add(Conv2D(64, (3,3)))\n",
    "model.add(Activation('relu'))\n",
    "model.add(MaxPooling2D(pool_size=(2,2)))\n",
    "\n",
    "model.add(Flatten())\n",
    "model.add(Dense(64))\n",
    "model.add(Activation('relu'))\n",
    "model.add(Dropout(0.5))\n",
    "model.add(Dense(1))\n",
    "model.add(Activation('sigmoid'))"
   ]
  },
  {
   "cell_type": "code",
   "execution_count": 11,
   "metadata": {},
   "outputs": [],
   "source": [
    "model.compile(loss='binary_crossentropy',\n",
    "              optimizer='rmsprop',\n",
    "              metrics=['accuracy'])"
   ]
  },
  {
   "cell_type": "code",
   "execution_count": null,
   "metadata": {},
   "outputs": [
    {
     "name": "stdout",
     "output_type": "stream",
     "text": [
      "Found 1764 images belonging to 2 classes.\n",
      "Found 35 images belonging to 2 classes.\n",
      "Epoch 1/50\n",
      "110/110 [==============================] - 162s 1s/step - loss: 0.7082 - acc: 0.5080 - val_loss: 0.6750 - val_acc: 0.5312\n",
      "Epoch 2/50\n",
      "110/110 [==============================] - 156s 1s/step - loss: 0.6956 - acc: 0.5165 - val_loss: 0.6822 - val_acc: 0.4737\n",
      "Epoch 3/50\n",
      "110/110 [==============================] - 120s 1s/step - loss: 0.6969 - acc: 0.5182 - val_loss: 0.6599 - val_acc: 0.6316\n",
      "Epoch 4/50\n",
      "110/110 [==============================] - 115s 1s/step - loss: 0.6930 - acc: 0.5483 - val_loss: 0.6665 - val_acc: 0.5625\n",
      "Epoch 5/50\n",
      "110/110 [==============================] - 113s 1s/step - loss: 0.6851 - acc: 0.5489 - val_loss: 0.6585 - val_acc: 0.6316\n",
      "Epoch 6/50\n",
      "110/110 [==============================] - 113s 1s/step - loss: 0.6800 - acc: 0.5784 - val_loss: 0.6239 - val_acc: 0.8421\n",
      "Epoch 7/50\n",
      "110/110 [==============================] - 112s 1s/step - loss: 0.6728 - acc: 0.5983 - val_loss: 0.6259 - val_acc: 0.6875\n",
      "Epoch 8/50\n",
      "110/110 [==============================] - 111s 1s/step - loss: 0.6740 - acc: 0.5773 - val_loss: 0.6480 - val_acc: 0.6316\n",
      "Epoch 9/50\n",
      "110/110 [==============================] - 114s 1s/step - loss: 0.6724 - acc: 0.6017 - val_loss: 0.6543 - val_acc: 0.7368\n",
      "Epoch 10/50\n",
      "110/110 [==============================] - 111s 1s/step - loss: 0.6654 - acc: 0.6028 - val_loss: 0.6027 - val_acc: 0.7188\n",
      "Epoch 11/50\n",
      "110/110 [==============================] - 110s 1s/step - loss: 0.6597 - acc: 0.6108 - val_loss: 0.5971 - val_acc: 0.5789\n",
      "Epoch 12/50\n",
      "110/110 [==============================] - 111s 1s/step - loss: 0.6618 - acc: 0.6057 - val_loss: 0.6118 - val_acc: 0.6316\n",
      "Epoch 13/50\n",
      "110/110 [==============================] - 112s 1s/step - loss: 0.6589 - acc: 0.6029 - val_loss: 0.5653 - val_acc: 0.7188\n",
      "Epoch 14/50\n",
      "110/110 [==============================] - 111s 1s/step - loss: 0.6490 - acc: 0.6301 - val_loss: 0.5618 - val_acc: 0.7895\n",
      "Epoch 15/50\n",
      "110/110 [==============================] - 115s 1s/step - loss: 0.6412 - acc: 0.6244 - val_loss: 0.5632 - val_acc: 0.6316\n",
      "Epoch 16/50\n",
      "110/110 [==============================] - 117s 1s/step - loss: 0.6588 - acc: 0.6267 - val_loss: 0.5721 - val_acc: 0.7812\n",
      "Epoch 17/50\n",
      "110/110 [==============================] - 152s 1s/step - loss: 0.6458 - acc: 0.6329 - val_loss: 0.5876 - val_acc: 0.6842\n",
      "Epoch 18/50\n",
      "110/110 [==============================] - 199s 2s/step - loss: 0.6385 - acc: 0.6460 - val_loss: 0.5325 - val_acc: 0.6842\n",
      "Epoch 19/50\n",
      "110/110 [==============================] - 137s 1s/step - loss: 0.6363 - acc: 0.6506 - val_loss: 0.6080 - val_acc: 0.5938\n",
      "Epoch 20/50\n",
      "110/110 [==============================] - 113s 1s/step - loss: 0.6261 - acc: 0.6511 - val_loss: 0.5498 - val_acc: 0.6842\n",
      "Epoch 21/50\n",
      "110/110 [==============================] - 128s 1s/step - loss: 0.6362 - acc: 0.6574 - val_loss: 0.5856 - val_acc: 0.7895\n",
      "Epoch 22/50\n",
      "110/110 [==============================] - 124s 1s/step - loss: 0.6213 - acc: 0.6688 - val_loss: 0.5842 - val_acc: 0.7188\n",
      "Epoch 23/50\n",
      "110/110 [==============================] - 114s 1s/step - loss: 0.6247 - acc: 0.6562 - val_loss: 0.5446 - val_acc: 0.7368\n",
      "Epoch 24/50\n",
      "110/110 [==============================] - 115s 1s/step - loss: 0.6313 - acc: 0.6472 - val_loss: 0.6021 - val_acc: 0.6316\n",
      "Epoch 25/50\n",
      "110/110 [==============================] - 10481s 95s/step - loss: 0.6070 - acc: 0.6710 - val_loss: 0.6405 - val_acc: 0.5625\n",
      "Epoch 26/50\n",
      "110/110 [==============================] - 101s 916ms/step - loss: 0.6309 - acc: 0.6597 - val_loss: 0.6217 - val_acc: 0.6316\n",
      "Epoch 27/50\n",
      "110/110 [==============================] - 98s 889ms/step - loss: 0.6066 - acc: 0.6648 - val_loss: 0.4925 - val_acc: 0.6842\n",
      "Epoch 28/50\n",
      "110/110 [==============================] - 97s 883ms/step - loss: 0.6095 - acc: 0.6761 - val_loss: 0.6274 - val_acc: 0.6562\n",
      "Epoch 29/50\n",
      "110/110 [==============================] - 97s 879ms/step - loss: 0.6112 - acc: 0.6727 - val_loss: 0.6616 - val_acc: 0.5789\n",
      "Epoch 30/50\n",
      "110/110 [==============================] - 101s 914ms/step - loss: 0.6074 - acc: 0.6750 - val_loss: 0.6472 - val_acc: 0.7368\n",
      "Epoch 31/50\n",
      "110/110 [==============================] - 103s 936ms/step - loss: 0.6143 - acc: 0.6568 - val_loss: 0.7324 - val_acc: 0.6875\n",
      "Epoch 32/50\n",
      "110/110 [==============================] - 105s 953ms/step - loss: 0.6111 - acc: 0.6619 - val_loss: 0.8507 - val_acc: 0.5789\n",
      "Epoch 33/50\n",
      "110/110 [==============================] - 105s 956ms/step - loss: 0.6064 - acc: 0.6863 - val_loss: 0.7576 - val_acc: 0.5263\n",
      "Epoch 34/50\n",
      "110/110 [==============================] - 105s 958ms/step - loss: 0.5958 - acc: 0.6790 - val_loss: 0.5578 - val_acc: 0.7188\n",
      "Epoch 35/50\n",
      "110/110 [==============================] - 105s 955ms/step - loss: 0.6123 - acc: 0.6886 - val_loss: 0.6813 - val_acc: 0.5789\n",
      "Epoch 36/50\n",
      "110/110 [==============================] - 105s 958ms/step - loss: 0.6066 - acc: 0.6818 - val_loss: 0.5184 - val_acc: 0.6842\n",
      "Epoch 37/50\n",
      "110/110 [==============================] - 106s 960ms/step - loss: 0.6080 - acc: 0.6687 - val_loss: 0.5958 - val_acc: 0.6250\n",
      "Epoch 38/50\n",
      "110/110 [==============================] - 106s 959ms/step - loss: 0.5857 - acc: 0.6926 - val_loss: 0.4635 - val_acc: 0.8421\n",
      "Epoch 39/50\n",
      "110/110 [==============================] - 106s 960ms/step - loss: 0.5952 - acc: 0.6801 - val_loss: 0.7056 - val_acc: 0.6316\n",
      "Epoch 40/50\n",
      "110/110 [==============================] - 106s 960ms/step - loss: 0.5837 - acc: 0.6937 - val_loss: 0.5897 - val_acc: 0.6875\n",
      "Epoch 41/50\n",
      "110/110 [==============================] - 105s 957ms/step - loss: 0.6063 - acc: 0.6852 - val_loss: 0.6686 - val_acc: 0.7368\n",
      "Epoch 42/50\n",
      " 46/110 [===========>..................] - ETA: 1:00 - loss: 0.5766 - acc: 0.7079"
     ]
    }
   ],
   "source": [
    "train_datagen = ImageDataGenerator(\n",
    "    rescale=1./255,\n",
    "    shear_range=0.2,\n",
    "    zoom_range=0.2,\n",
    "    horizontal_flip=True)\n",
    "\n",
    "test_datagen = ImageDataGenerator(rescale=1./255)\n",
    "\n",
    "train_generator = train_datagen.flow_from_directory(\n",
    "    train_data_dir,\n",
    "    target_size=(img_width, img_height),\n",
    "    batch_size=batch_size,\n",
    "    color_mode='grayscale',\n",
    "    class_mode='binary')\n",
    "\n",
    "test_generator = test_datagen.flow_from_directory(\n",
    "    test_data_dir,\n",
    "    target_size=(img_width, img_height),\n",
    "    batch_size=batch_size,\n",
    "    color_mode='grayscale',\n",
    "    class_mode='binary')\n",
    "\n",
    "model.fit_generator(\n",
    "    train_generator,\n",
    "    steps_per_epoch=num_train_samples//batch_size,\n",
    "    epochs=epochs,\n",
    "    validation_data=test_generator,\n",
    "    validation_steps=num_test_samples//batch_size)\n",
    "\n",
    "#roughly 73% accuracy on rgb\n",
    "#roughly % accuracy on greyscale"
   ]
  },
  {
   "cell_type": "code",
   "execution_count": 8,
   "metadata": {},
   "outputs": [],
   "source": [
    "model.save_weights('first_try.h5')"
   ]
  },
  {
   "cell_type": "code",
   "execution_count": null,
   "metadata": {},
   "outputs": [],
   "source": []
  }
 ],
 "metadata": {
  "kernelspec": {
   "display_name": "Python 3",
   "language": "python",
   "name": "python3"
  },
  "language_info": {
   "codemirror_mode": {
    "name": "ipython",
    "version": 3
   },
   "file_extension": ".py",
   "mimetype": "text/x-python",
   "name": "python",
   "nbconvert_exporter": "python",
   "pygments_lexer": "ipython3",
   "version": "3.7.3"
  }
 },
 "nbformat": 4,
 "nbformat_minor": 2
}
