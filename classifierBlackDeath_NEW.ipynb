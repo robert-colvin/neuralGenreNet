{
 "cells": [
  {
   "cell_type": "code",
   "execution_count": 1,
   "metadata": {},
   "outputs": [
    {
     "name": "stderr",
     "output_type": "stream",
     "text": [
      "Using TensorFlow backend.\n"
     ]
    }
   ],
   "source": [
    "from keras.preprocessing.image import ImageDataGenerator\n",
    "from keras.models import Sequential\n",
    "from keras.layers import Conv2D, MaxPooling2D\n",
    "from keras.layers import Activation, Dropout, Flatten, Dense\n",
    "from keras import backend as K"
   ]
  },
  {
   "cell_type": "code",
   "execution_count": 2,
   "metadata": {},
   "outputs": [],
   "source": [
    "#image dimensions\n",
    "img_width, img_height = 200, 200"
   ]
  },
  {
   "cell_type": "code",
   "execution_count": 3,
   "metadata": {},
   "outputs": [],
   "source": [
    "train_data_dir = './data/train'\n",
    "test_data_dir  = './data/test'\n",
    "num_train_samples = 59850 #29925 in both classes  \n",
    "num_test_samples  = 22828 #7498 in black, 15330 in death\n",
    "epochs = 20 \n",
    "batch_size = 32"
   ]
  },
  {
   "cell_type": "code",
   "execution_count": 12,
   "metadata": {},
   "outputs": [],
   "source": [
    "if K.image_data_format() == 'channel_first':\n",
    "    input_shape = (3, img_width, img_height)   #change 3 to 1 for grayscale\n",
    "else:\n",
    "    input_shape = (img_width, img_height, 3)"
   ]
  },
  {
   "cell_type": "code",
   "execution_count": 13,
   "metadata": {},
   "outputs": [],
   "source": [
    "\n",
    "model = Sequential()\n",
    "model.add(Conv2D(32, (3,3), input_shape=input_shape))\n",
    "model.add(Activation('relu'))\n",
    "model.add(MaxPooling2D(pool_size=(2,2)))\n",
    "\n",
    "model.add(Conv2D(32, (3,3)))\n",
    "model.add(Activation('relu'))\n",
    "model.add(MaxPooling2D(pool_size=(2,2)))\n",
    "\n",
    "model.add(Conv2D(64, (3,3)))\n",
    "model.add(Activation('relu'))\n",
    "model.add(MaxPooling2D(pool_size=(2,2)))\n",
    "\n",
    "model.add(Flatten())\n",
    "model.add(Dense(64))\n",
    "model.add(Activation('relu'))\n",
    "model.add(Dropout(0.5))\n",
    "model.add(Dense(1))\n",
    "model.add(Activation('sigmoid'))"
   ]
  },
  {
   "cell_type": "code",
   "execution_count": 14,
   "metadata": {},
   "outputs": [],
   "source": [
    "model.compile(loss='binary_crossentropy',\n",
    "              optimizer='rmsprop',\n",
    "              metrics=['accuracy'])"
   ]
  },
  {
   "cell_type": "code",
   "execution_count": 15,
   "metadata": {
    "scrolled": true
   },
   "outputs": [
    {
     "name": "stdout",
     "output_type": "stream",
     "text": [
      "Found 59849 images belonging to 2 classes.\n",
      "Found 22828 images belonging to 2 classes.\n",
      "Epoch 1/20\n",
      "1870/1870 [==============================] - 6981s 4s/step - loss: 0.6520 - acc: 0.6437 - val_loss: 0.6555 - val_acc: 0.6737\n",
      "Epoch 2/20\n",
      "1870/1870 [==============================] - 6225s 3s/step - loss: 0.6322 - acc: 0.6627 - val_loss: 0.7421 - val_acc: 0.6267\n",
      "Epoch 3/20\n",
      "1870/1870 [==============================] - 6182s 3s/step - loss: 0.6324 - acc: 0.6645 - val_loss: 0.5867 - val_acc: 0.7052\n",
      "Epoch 4/20\n",
      "1870/1870 [==============================] - 5999s 3s/step - loss: 0.6294 - acc: 0.6641 - val_loss: 0.5737 - val_acc: 0.7142\n",
      "Epoch 5/20\n",
      "1870/1870 [==============================] - 26596s 14s/step - loss: 0.6264 - acc: 0.6661 - val_loss: 0.6302 - val_acc: 0.6781\n",
      "Epoch 6/20\n",
      "1870/1870 [==============================] - 6080s 3s/step - loss: 0.6247 - acc: 0.6676 - val_loss: 0.6767 - val_acc: 0.6358\n",
      "Epoch 7/20\n",
      "1870/1870 [==============================] - 5914s 3s/step - loss: 0.6233 - acc: 0.6696 - val_loss: 0.6391 - val_acc: 0.6617\n",
      "Epoch 8/20\n",
      "1870/1870 [==============================] - 5913s 3s/step - loss: 0.6244 - acc: 0.6689 - val_loss: 0.6474 - val_acc: 0.6624\n",
      "Epoch 9/20\n",
      "1870/1870 [==============================] - 5958s 3s/step - loss: 0.6226 - acc: 0.6689 - val_loss: 0.6524 - val_acc: 0.6477\n",
      "Epoch 10/20\n",
      "1870/1870 [==============================] - 6215s 3s/step - loss: 0.6222 - acc: 0.6690 - val_loss: 0.7511 - val_acc: 0.6753\n",
      "Epoch 11/20\n",
      "1870/1870 [==============================] - 6200s 3s/step - loss: 0.6240 - acc: 0.6700 - val_loss: 0.5871 - val_acc: 0.7122\n",
      "Epoch 12/20\n",
      "1870/1870 [==============================] - 32266s 17s/step - loss: 0.6226 - acc: 0.6699 - val_loss: 0.6100 - val_acc: 0.7027\n",
      "Epoch 13/20\n",
      "1870/1870 [==============================] - 6414s 3s/step - loss: 0.6243 - acc: 0.6700 - val_loss: 0.5927 - val_acc: 0.7020\n",
      "Epoch 14/20\n",
      "1870/1870 [==============================] - 34249s 18s/step - loss: 0.6279 - acc: 0.6670 - val_loss: 0.6468 - val_acc: 0.6660\n",
      "Epoch 15/20\n",
      "1870/1870 [==============================] - 7595s 4s/step - loss: 0.6269 - acc: 0.6721 - val_loss: 0.6237 - val_acc: 0.6770\n",
      "Epoch 16/20\n",
      "1870/1870 [==============================] - 6195s 3s/step - loss: 0.6271 - acc: 0.6678 - val_loss: 0.6233 - val_acc: 0.7048\n",
      "Epoch 17/20\n",
      "1870/1870 [==============================] - 6012s 3s/step - loss: 0.6249 - acc: 0.6698 - val_loss: 0.6557 - val_acc: 0.6624\n",
      "Epoch 18/20\n",
      "1870/1870 [==============================] - 6090s 3s/step - loss: 0.6297 - acc: 0.6699 - val_loss: 0.6083 - val_acc: 0.7005\n",
      "Epoch 19/20\n",
      "1870/1870 [==============================] - 6079s 3s/step - loss: 0.6261 - acc: 0.6674 - val_loss: 0.5750 - val_acc: 0.7146\n",
      "Epoch 20/20\n",
      "1870/1870 [==============================] - 6074s 3s/step - loss: 0.6248 - acc: 0.6681 - val_loss: 0.7885 - val_acc: 0.6398\n"
     ]
    },
    {
     "data": {
      "text/plain": [
       "<keras.callbacks.History at 0x7f0694a7c518>"
      ]
     },
     "execution_count": 15,
     "metadata": {},
     "output_type": "execute_result"
    }
   ],
   "source": [
    "train_datagen = ImageDataGenerator(\n",
    "    rescale=1./255,\n",
    "    shear_range=0.2,\n",
    "    zoom_range=0.2,\n",
    "    horizontal_flip=True)\n",
    "\n",
    "test_datagen = ImageDataGenerator(rescale=1./255)\n",
    "\n",
    "train_generator = train_datagen.flow_from_directory(\n",
    "    train_data_dir,\n",
    "    target_size=(img_width, img_height),\n",
    "    batch_size=batch_size,\n",
    "    color_mode='rgb',\n",
    "    class_mode='binary')\n",
    "\n",
    "test_generator = test_datagen.flow_from_directory(\n",
    "    test_data_dir,\n",
    "    target_size=(img_width, img_height),\n",
    "    batch_size=batch_size,\n",
    "    color_mode='rgb',\n",
    "    class_mode='binary')\n",
    "\n",
    "model.fit_generator(\n",
    "    train_generator,\n",
    "    steps_per_epoch=num_train_samples//batch_size,\n",
    "    epochs=epochs,\n",
    "    validation_data=test_generator,\n",
    "    validation_steps=num_test_samples//batch_size)\n",
    "\n",
    "#roughly % accuracy on rgb\n",
    "#roughly 67% accuracy on greyscale"
   ]
  },
  {
   "cell_type": "code",
   "execution_count": 16,
   "metadata": {},
   "outputs": [],
   "source": [
    "model.save_weights('rgb_model.h5')"
   ]
  },
  {
   "cell_type": "code",
   "execution_count": null,
   "metadata": {},
   "outputs": [],
   "source": []
  }
 ],
 "metadata": {
  "kernelspec": {
   "display_name": "Python 3",
   "language": "python",
   "name": "python3"
  },
  "language_info": {
   "codemirror_mode": {
    "name": "ipython",
    "version": 3
   },
   "file_extension": ".py",
   "mimetype": "text/x-python",
   "name": "python",
   "nbconvert_exporter": "python",
   "pygments_lexer": "ipython3",
   "version": "3.7.3"
  }
 },
 "nbformat": 4,
 "nbformat_minor": 2
}
