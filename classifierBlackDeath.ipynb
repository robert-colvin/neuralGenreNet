{
 "cells": [
  {
   "cell_type": "markdown",
   "metadata": {},
   "source": [
    "# IMPORTS"
   ]
  },
  {
   "cell_type": "code",
   "execution_count": 1,
   "metadata": {},
   "outputs": [],
   "source": [
    "import cv2\n",
    "import numpy as np\n",
    "import os\n",
    "from random import shuffle\n",
    "from tqdm import tqdm\n",
    "import tensorflow as tf\n",
    "import matplotlib.pyplot as plt\n",
    "%matplotlib inline"
   ]
  },
  {
   "cell_type": "markdown",
   "metadata": {},
   "source": [
    "# SET UP TRAINING AND TESTING SETS"
   ]
  },
  {
   "cell_type": "code",
   "execution_count": 41,
   "metadata": {},
   "outputs": [],
   "source": [
    "train_data = './trainBlackDeath'\n",
    "test_data  = './testBlackDeath'"
   ]
  },
  {
   "cell_type": "markdown",
   "metadata": {},
   "source": [
    "# PREPARE IMAGES AND CONVERT TO NUMPY NxN ARRAYS\n",
    "#### credit to Arun Prakash at Francium Tech for the following cell\n",
    "#### https://blog.francium.tech/build-your-own-image-classifier-with-tensorflow-and-keras-dc147a15e38e"
   ]
  },
  {
   "cell_type": "code",
   "execution_count": 71,
   "metadata": {},
   "outputs": [],
   "source": [
    "#one_hot_label sets correct label to 1 and everything else to 0 in an np array\n",
    "#can be easily generalized to more classes with longer array and more 0s\n",
    "def one_hot_label(img):\n",
    "    label = img.split('_')[0]\n",
    "    if label == 'black':\n",
    "        ohl = np.array([1,0])\n",
    "    elif label == 'death':\n",
    "        ohl = np.array([0,1])\n",
    "\n",
    "    return ohl\n",
    "\n",
    "#converts training images to 150*150 pixel numpy array each (150*150 is default size in amgnn dataset)\n",
    "#also converts to greyscale and adding ohl encoding to it\n",
    "def train_data_with_label():\n",
    "    train_images = []\n",
    "    for i in tqdm(os.listdir(train_data)):\n",
    "        #print(i)\n",
    "        path = os.path.join(train_data,i)\n",
    "        img = cv2.imread(path, cv2.IMREAD_GRAYSCALE) #change this for no  greyscale\n",
    "        if img is None:\n",
    "            print('train',i)\n",
    "            continue\n",
    "        #print(img.shape)\n",
    "        #img = cv2.resize(img, (150,150))   #may be unnecessary since already 150*150\n",
    "        train_images.append([np.array(img), one_hot_label(i)])\n",
    "    #randomize order of training data so each batch has photos of both classes\n",
    "    shuffle(train_images)\n",
    "    return train_images\n",
    "\n",
    "def test_data_with_label():\n",
    "    test_images = []\n",
    "    for i in tqdm(os.listdir(test_data)):\n",
    "        #print(i)\n",
    "        path = os.path.join(train_data,i)\n",
    "        img = cv2.imread(path, cv2.IMREAD_GRAYSCALE) #change this for no  greyscale\n",
    "        if img is None:\n",
    "            print('test',i)\n",
    "            continue\n",
    "        #img = cv2.resize(img, (150,150))   #may be unnecessary since already 150*150\n",
    "        test_images.append([np.array(img), one_hot_label(i)])\n",
    "\n",
    "    return test_images"
   ]
  },
  {
   "cell_type": "code",
   "execution_count": 72,
   "metadata": {},
   "outputs": [],
   "source": [
    "from keras.models import Sequential\n",
    "from keras.layers import *\n",
    "from keras.optimizers import *"
   ]
  },
  {
   "cell_type": "code",
   "execution_count": 73,
   "metadata": {},
   "outputs": [
    {
     "name": "stderr",
     "output_type": "stream",
     "text": [
      "100%|██████████| 35/35 [00:00<00:00, 660.70it/s]\n",
      "100%|██████████| 35/35 [00:00<00:00, 970.89it/s]"
     ]
    },
    {
     "name": "stdout",
     "output_type": "stream",
     "text": [
      "train black_1.jpg\n",
      "train black_101.jpg\n",
      "train black_103.jpg\n",
      "train black_104.jpg\n",
      "train black_105.jpg\n",
      "train black_106.jpg\n",
      "train black_107.jpg\n",
      "train black_108.jpg\n",
      "train black_109.jpg\n",
      "train black_9.jpg\n",
      "train black_91.jpg\n",
      "train black_93.jpg\n",
      "train black_94.jpg\n",
      "train black_95.jpg\n",
      "train black_96.jpg\n",
      "train black_97.jpg\n",
      "train black_98.jpg\n",
      "train black_99.jpg\n",
      "train death_101.jpg\n",
      "train death_103.jpg\n",
      "train death_104.jpg\n",
      "train death_105.jpg\n",
      "train death_106.jpg\n",
      "train death_107.jpg\n",
      "train death_108.jpg\n",
      "train death_109.jpg\n",
      "train death_9.jpg\n",
      "train death_901.jpg\n",
      "train death_91.jpg\n",
      "train death_93.jpg\n",
      "train death_94.jpg\n",
      "train death_95.jpg\n",
      "train death_96.jpg\n",
      "train death_97.jpg\n",
      "train death_98.jpg\n",
      "test black_1.jpg\n",
      "test black_101.jpg\n",
      "test black_103.jpg\n",
      "test black_104.jpg\n",
      "test black_105.jpg\n",
      "test black_106.jpg\n",
      "test black_107.jpg\n",
      "test black_108.jpg\n",
      "test black_109.jpg\n",
      "test black_9.jpg\n",
      "test black_91.jpg\n",
      "test black_93.jpg\n",
      "test black_94.jpg\n",
      "test black_95.jpg\n",
      "test black_96.jpg\n",
      "test black_97.jpg\n",
      "test black_98.jpg\n",
      "test black_99.jpg\n",
      "test death_101.jpg\n",
      "test death_103.jpg\n",
      "test death_104.jpg\n",
      "test death_105.jpg\n",
      "test death_106.jpg\n",
      "test death_107.jpg\n",
      "test death_108.jpg\n",
      "test death_109.jpg\n",
      "test death_9.jpg\n",
      "test death_901.jpg\n",
      "test death_91.jpg\n",
      "test death_93.jpg\n",
      "test death_94.jpg\n",
      "test death_95.jpg\n",
      "test death_96.jpg\n",
      "test death_97.jpg\n",
      "test death_98.jpg\n"
     ]
    },
    {
     "name": "stderr",
     "output_type": "stream",
     "text": [
      "\n"
     ]
    }
   ],
   "source": [
    "training_images = train_data_with_label()\n",
    "testing_images = test_data_with_label()"
   ]
  },
  {
   "cell_type": "code",
   "execution_count": 55,
   "metadata": {},
   "outputs": [
    {
     "ename": "ValueError",
     "evalue": "cannot reshape array of size 1764 into shape (150,150,1)",
     "output_type": "error",
     "traceback": [
      "\u001b[0;31m---------------------------------------------------------------------------\u001b[0m",
      "\u001b[0;31mValueError\u001b[0m                                Traceback (most recent call last)",
      "\u001b[0;32m<ipython-input-55-e6c6c3236f52>\u001b[0m in \u001b[0;36m<module>\u001b[0;34m\u001b[0m\n\u001b[0;32m----> 1\u001b[0;31m \u001b[0mtr_img_data\u001b[0m \u001b[0;34m=\u001b[0m \u001b[0mnp\u001b[0m\u001b[0;34m.\u001b[0m\u001b[0marray\u001b[0m\u001b[0;34m(\u001b[0m\u001b[0;34m[\u001b[0m\u001b[0mi\u001b[0m\u001b[0;34m[\u001b[0m\u001b[0;36m0\u001b[0m\u001b[0;34m]\u001b[0m \u001b[0;32mfor\u001b[0m \u001b[0mi\u001b[0m \u001b[0;32min\u001b[0m \u001b[0mtraining_images\u001b[0m\u001b[0;34m]\u001b[0m\u001b[0;34m)\u001b[0m\u001b[0;34m.\u001b[0m\u001b[0mreshape\u001b[0m\u001b[0;34m(\u001b[0m\u001b[0;34m-\u001b[0m\u001b[0;36m1\u001b[0m\u001b[0;34m,\u001b[0m\u001b[0;36m150\u001b[0m\u001b[0;34m,\u001b[0m\u001b[0;36m150\u001b[0m\u001b[0;34m,\u001b[0m\u001b[0;36m1\u001b[0m\u001b[0;34m)\u001b[0m\u001b[0;34m\u001b[0m\u001b[0;34m\u001b[0m\u001b[0m\n\u001b[0m\u001b[1;32m      2\u001b[0m \u001b[0mtr_lbl_data\u001b[0m \u001b[0;34m=\u001b[0m \u001b[0mnp\u001b[0m\u001b[0;34m.\u001b[0m\u001b[0marray\u001b[0m\u001b[0;34m(\u001b[0m\u001b[0;34m[\u001b[0m\u001b[0mi\u001b[0m\u001b[0;34m[\u001b[0m\u001b[0;36m1\u001b[0m\u001b[0;34m]\u001b[0m \u001b[0;32mfor\u001b[0m \u001b[0mi\u001b[0m \u001b[0;32min\u001b[0m \u001b[0mtraining_images\u001b[0m\u001b[0;34m]\u001b[0m\u001b[0;34m)\u001b[0m\u001b[0;34m\u001b[0m\u001b[0;34m\u001b[0m\u001b[0m\n\u001b[1;32m      3\u001b[0m \u001b[0;34m\u001b[0m\u001b[0m\n\u001b[1;32m      4\u001b[0m \u001b[0mtst_img_data\u001b[0m \u001b[0;34m=\u001b[0m \u001b[0mnp\u001b[0m\u001b[0;34m.\u001b[0m\u001b[0marray\u001b[0m\u001b[0;34m(\u001b[0m\u001b[0;34m[\u001b[0m\u001b[0mi\u001b[0m\u001b[0;34m[\u001b[0m\u001b[0;36m0\u001b[0m\u001b[0;34m]\u001b[0m \u001b[0;32mfor\u001b[0m \u001b[0mi\u001b[0m \u001b[0;32min\u001b[0m \u001b[0mtesting_images\u001b[0m\u001b[0;34m]\u001b[0m\u001b[0;34m)\u001b[0m\u001b[0;34m.\u001b[0m\u001b[0mreshape\u001b[0m\u001b[0;34m(\u001b[0m\u001b[0;34m-\u001b[0m\u001b[0;36m1\u001b[0m\u001b[0;34m,\u001b[0m\u001b[0;36m150\u001b[0m\u001b[0;34m,\u001b[0m\u001b[0;36m150\u001b[0m\u001b[0;34m,\u001b[0m\u001b[0;36m1\u001b[0m\u001b[0;34m)\u001b[0m\u001b[0;34m\u001b[0m\u001b[0;34m\u001b[0m\u001b[0m\n\u001b[1;32m      5\u001b[0m \u001b[0mtst_lbl_data\u001b[0m \u001b[0;34m=\u001b[0m \u001b[0mnp\u001b[0m\u001b[0;34m.\u001b[0m\u001b[0marray\u001b[0m\u001b[0;34m(\u001b[0m\u001b[0;34m[\u001b[0m\u001b[0mi\u001b[0m\u001b[0;34m[\u001b[0m\u001b[0;36m1\u001b[0m\u001b[0;34m]\u001b[0m \u001b[0;32mfor\u001b[0m \u001b[0mi\u001b[0m \u001b[0;32min\u001b[0m \u001b[0mtesting_images\u001b[0m\u001b[0;34m]\u001b[0m\u001b[0;34m)\u001b[0m\u001b[0;34m\u001b[0m\u001b[0;34m\u001b[0m\u001b[0m\n",
      "\u001b[0;31mValueError\u001b[0m: cannot reshape array of size 1764 into shape (150,150,1)"
     ]
    }
   ],
   "source": [
    "tr_img_data = np.array([i[0] for i in training_images]).reshape(-1,150,150,1)\n",
    "tr_lbl_data = np.array([i[1] for i in training_images])\n",
    "\n",
    "tst_img_data = np.array([i[0] for i in testing_images]).reshape(-1,150,150,1)\n",
    "tst_lbl_data = np.array([i[1] for i in testing_images])"
   ]
  },
  {
   "cell_type": "code",
   "execution_count": null,
   "metadata": {},
   "outputs": [],
   "source": []
  }
 ],
 "metadata": {
  "kernelspec": {
   "display_name": "Python 3",
   "language": "python",
   "name": "python3"
  },
  "language_info": {
   "codemirror_mode": {
    "name": "ipython",
    "version": 3
   },
   "file_extension": ".py",
   "mimetype": "text/x-python",
   "name": "python",
   "nbconvert_exporter": "python",
   "pygments_lexer": "ipython3",
   "version": "3.7.3"
  }
 },
 "nbformat": 4,
 "nbformat_minor": 2
}
